{
 "cells": [
  {
   "cell_type": "code",
   "execution_count": 1,
   "id": "92936478",
   "metadata": {},
   "outputs": [
    {
     "name": "stdout",
     "output_type": "stream",
     "text": [
      "Enter the age of the person in years: 10\n",
      "\n",
      "Duration of life that how long a person lived based on his Age:\n",
      "Total Months = 120 Months\n",
      "Total Weeks = 520 Weeks\n",
      "Total Days = 3650 Days\n",
      "Total Hours = 87600 Hours\n",
      "Total Minutes = 5256000 Minutes\n",
      "Total Seconds = 315360000 Seconds\n"
     ]
    }
   ],
   "source": [
    "def SurvivalDurationCalculator(age):\n",
    "    # Constants\n",
    "    months_per_year = 12\n",
    "    weeks_per_year = 52\n",
    "    days_per_year = 365  # not taken for leap years\n",
    "    hours_per_day = 24\n",
    "    minutes_per_hour = 60\n",
    "    seconds_per_minute = 60\n",
    "    \n",
    "    # Calculations for life duration in months, weeks, days, hours and seconds\n",
    "    months = age * months_per_year\n",
    "    weeks = age * weeks_per_year\n",
    "    days = age * days_per_year\n",
    "    hours = days * hours_per_day\n",
    "    minutes = hours * minutes_per_hour\n",
    "    seconds = minutes * seconds_per_minute\n",
    "    \n",
    "    return {\n",
    "        \"Months\": months,\n",
    "        \"Weeks\": weeks,\n",
    "        \"Days\": days,\n",
    "        \"Hours\": hours,\n",
    "        \"Minutes\": minutes,\n",
    "        \"Seconds\": seconds\n",
    "    }\n",
    "\n",
    "# Input for life duration\n",
    "age = int(input(\"Enter the age of the person in years: \")) #value shoule be either greater than or equal to 0.\n",
    "duration = SurvivalDurationCalculator(age)\n",
    "\n",
    "\n",
    "# Output for life duration\n",
    "print(\"\\nDuration of life that how long a person lived based on his Age:\") # \"\\n\" to move to the next line when printing\n",
    "for unit, value in duration.items():\n",
    "    print(f\"Total {unit} = {value} {unit}\") # f\".....\" is used to format the string. variables should be in curley bracket."
   ]
  },
  {
   "cell_type": "code",
   "execution_count": null,
   "id": "05c9b4ea",
   "metadata": {},
   "outputs": [],
   "source": []
  }
 ],
 "metadata": {
  "kernelspec": {
   "display_name": "Python 3 (ipykernel)",
   "language": "python",
   "name": "python3"
  },
  "language_info": {
   "codemirror_mode": {
    "name": "ipython",
    "version": 3
   },
   "file_extension": ".py",
   "mimetype": "text/x-python",
   "name": "python",
   "nbconvert_exporter": "python",
   "pygments_lexer": "ipython3",
   "version": "3.11.5"
  }
 },
 "nbformat": 4,
 "nbformat_minor": 5
}
