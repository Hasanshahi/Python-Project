{
 "cells": [
  {
   "cell_type": "code",
   "execution_count": 2,
   "id": "d57a755d",
   "metadata": {},
   "outputs": [
    {
     "name": "stdout",
     "output_type": "stream",
     "text": [
      "Enter the person's age in years: 10\n",
      "Select the unit to calculate (months, weeks, days, hours, minutes, seconds): weeks\n",
      "\n",
      "Duration of life that how long a person lived based on his Age:\n",
      "The person has lived approximately 521.775 weeks.\n"
     ]
    }
   ],
   "source": [
    "class Survival_Duration_Calculator:\n",
    "    def __init__(instance, age_in_years):\n",
    "        instance.age_in_years = age_in_years\n",
    "        instance.years_in_months = 12\n",
    "        instance.years_in_weeks = 52.1775  # Approximate number of weeks in a year (365.25 days / 7 days per week)\n",
    "        instance.years_in_days = 365.25  # taken as leap year\n",
    "        instance.days_in_hours = 24\n",
    "        instance.hours_in_minutes = 60\n",
    "        instance.minutes_in_seconds = 60\n",
    "\n",
    "    # Calculate duration in months\n",
    "    def calculate_in_months(instance):\n",
    "        return instance.age_in_years * instance.years_in_months\n",
    "\n",
    "    # Calculate duration in weeks\n",
    "    def calculate_in_weeks(instance):\n",
    "        return instance.age_in_years * instance.years_in_weeks\n",
    "\n",
    "    # Calculate duration in days\n",
    "    def calculate_in_days(instance):\n",
    "        return instance.age_in_years * instance.years_in_days\n",
    "\n",
    "    # Calculate duration in hours\n",
    "    def calculate_in_hours(instance):\n",
    "        return instance.calculate_in_days() * instance.days_in_hours\n",
    "\n",
    "    # Calculate duration in minutes\n",
    "    def calculate_in_minutes(instance):\n",
    "        return instance.calculate_in_hours() * instance.hours_in_minutes\n",
    "\n",
    "    # Calculate duration in seconds\n",
    "    def calculate_in_seconds(instance):\n",
    "        return instance.calculate_in_minutes() * instance.minutes_in_seconds\n",
    "\n",
    "    # Method to calculate based on user input for specific time unit\n",
    "    def calculate_duration(instance, unit):\n",
    "        if unit == 'months':\n",
    "            return instance.calculate_in_months()\n",
    "        elif unit == 'weeks':\n",
    "            return instance.calculate_in_weeks()\n",
    "        elif unit == 'days':\n",
    "            return instance.calculate_in_days()\n",
    "        elif unit == 'hours':\n",
    "            return instance.calculate_in_hours()\n",
    "        elif unit == 'minutes':\n",
    "            return instance.calculate_in_minutes()\n",
    "        elif unit == 'seconds':\n",
    "            return instance.calculate_in_seconds()\n",
    "        else:\n",
    "            return \"Invalid unit. Choose from months, weeks, days, hours, minutes, or seconds.\"\n",
    "\n",
    "# Example usage\n",
    "age = float(input(\"Enter the person's age in years: \")) #value shoule be either greater than or equal to 0.\n",
    "unit = input(\"Select the unit to calculate (months, weeks, days, hours, minutes, seconds): \")\n",
    "\n",
    "# Create an instance of the SurvivalDuration class\n",
    "duration = SurvivalDuration(age)\n",
    "\n",
    "# Calculate and display the result\n",
    "result = duration.calculate_duration(unit)\n",
    "print(\"\\nDuration of life that how long a person lived based on his Age:\") # \"\\n\" to move to the next line when printing\n",
    "print(f\"The person has lived approximately {result} {unit}.\")\n"
   ]
  },
  {
   "cell_type": "code",
   "execution_count": null,
   "id": "445a7977",
   "metadata": {},
   "outputs": [],
   "source": []
  }
 ],
 "metadata": {
  "kernelspec": {
   "display_name": "Python 3 (ipykernel)",
   "language": "python",
   "name": "python3"
  },
  "language_info": {
   "codemirror_mode": {
    "name": "ipython",
    "version": 3
   },
   "file_extension": ".py",
   "mimetype": "text/x-python",
   "name": "python",
   "nbconvert_exporter": "python",
   "pygments_lexer": "ipython3",
   "version": "3.11.5"
  }
 },
 "nbformat": 4,
 "nbformat_minor": 5
}
